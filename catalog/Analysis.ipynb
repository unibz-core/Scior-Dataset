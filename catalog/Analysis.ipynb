{
 "cells": [
  {
   "cell_type": "markdown",
   "source": [
    "### Matrix generation"
   ],
   "metadata": {
    "collapsed": false
   }
  },
  {
   "cell_type": "code",
   "execution_count": 58,
   "outputs": [],
   "source": [
    "import os\n",
    "import glob\n",
    "import numpy as np\n",
    "\n",
    "from csv import reader"
   ],
   "metadata": {
    "collapsed": false
   }
  },
  {
   "cell_type": "code",
   "execution_count": 59,
   "outputs": [
    {
     "data": {
      "text/plain": "'E:\\\\Work\\\\PhD\\\\scior\\\\Scior-Tester\\\\catalog'"
     },
     "execution_count": 59,
     "metadata": {},
     "output_type": "execute_result"
    }
   ],
   "source": [
    "os.getcwd()"
   ],
   "metadata": {
    "collapsed": false
   }
  },
  {
   "cell_type": "code",
   "execution_count": 20,
   "outputs": [
    {
     "name": "stdout",
     "output_type": "stream",
     "text": [
      "435\n",
      "435\n"
     ]
    }
   ],
   "source": [
    "with open('valid_taxonomies_c.txt') as f:\n",
    "    valid_ac = [line.strip() for line in f]\n",
    "with open('valid_taxonomies_n.txt') as f:\n",
    "    valid_an = [line.strip() for line in f]\n",
    "print(len(valid_ac))\n",
    "print(len(valid_an))"
   ],
   "metadata": {
    "collapsed": false
   }
  },
  {
   "cell_type": "code",
   "execution_count": 21,
   "outputs": [],
   "source": [
    "taxonomy_length = {}\n",
    "\n",
    "for valid_taxonomy in valid_an:\n",
    "    folder_idx = valid_taxonomy.find(os.path.sep)\n",
    "    for file_name in glob.glob(f\"{valid_taxonomy[:folder_idx+1]}data_{valid_taxonomy[folder_idx+1:-4]}.csv\"):\n",
    "        with open(file_name, 'r') as file:\n",
    "            taxonomy_length[valid_taxonomy] = sum(1 for line in file) - 1"
   ],
   "metadata": {
    "collapsed": false
   }
  },
  {
   "cell_type": "code",
   "execution_count": 22,
   "outputs": [
    {
     "data": {
      "text/plain": "{'abrahao2018agriculture-operations\\\\abrahao2018agriculture-operations_tx001.ttl': 4,\n 'abrahao2018agriculture-operations\\\\abrahao2018agriculture-operations_tx002.ttl': 7,\n 'abrahao2018agriculture-operations\\\\abrahao2018agriculture-operations_tx003.ttl': 6,\n 'aguiar2018rdbs-o\\\\aguiar2018rdbs-o_tx003.ttl': 3,\n 'aguiar2018rdbs-o\\\\aguiar2018rdbs-o_tx004.ttl': 3,\n 'aguiar2018rdbs-o\\\\aguiar2018rdbs-o_tx005.ttl': 3,\n 'aguiar2018rdbs-o\\\\aguiar2018rdbs-o_tx006.ttl': 3,\n 'aguiar2019ooco\\\\aguiar2019ooco_tx001.ttl': 7,\n 'aguiar2019ooco\\\\aguiar2019ooco_tx003.ttl': 3,\n 'aguiar2019ooco\\\\aguiar2019ooco_tx004.ttl': 3,\n 'aires2022valuenetworks-geo\\\\aires2022valuenetworks-geo_tx001.ttl': 4,\n 'aires2022valuenetworks-geo\\\\aires2022valuenetworks-geo_tx002.ttl': 7,\n 'aires2022valuenetworks-geo\\\\aires2022valuenetworks-geo_tx003.ttl': 6,\n 'albuquerque2011ontobio\\\\albuquerque2011ontobio_tx009.ttl': 2,\n 'alpinebits2022\\\\alpinebits2022_tx010.ttl': 7,\n 'amaral2019rot\\\\amaral2019rot_tx002.ttl': 26,\n 'amaral2019rot\\\\amaral2019rot_tx003.ttl': 5,\n 'amaral2019rot\\\\amaral2019rot_tx004.ttl': 3,\n 'amaral2020rome\\\\amaral2020rome_tx002.ttl': 2,\n 'amaral2020rome\\\\amaral2020rome_tx003.ttl': 3,\n 'amaral2022ethical-requirements\\\\amaral2022ethical-requirements_tx001.ttl': 3,\n 'andrade2023integracao\\\\andrade2023integracao_tx001.ttl': 6,\n 'andrade2023integracao\\\\andrade2023integracao_tx002.ttl': 17,\n 'andrade2023integracao\\\\andrade2023integracao_tx004.ttl': 2,\n 'aristotle-ontology2019\\\\aristotle-ontology2019_tx001.ttl': 5,\n 'aristotle-ontology2019\\\\aristotle-ontology2019_tx002.ttl': 3,\n 'aristotle-ontology2019\\\\aristotle-ontology2019_tx003.ttl': 4,\n 'aristotle-ontology2019\\\\aristotle-ontology2019_tx004.ttl': 5,\n 'aristotle-ontology2019\\\\aristotle-ontology2019_tx005.ttl': 5,\n 'aristotle-ontology2019\\\\aristotle-ontology2019_tx006.ttl': 3,\n 'aristotle-ontology2019\\\\aristotle-ontology2019_tx007.ttl': 5,\n 'aristotle-ontology2019\\\\aristotle-ontology2019_tx008.ttl': 6,\n 'aristotle-ontology2019\\\\aristotle-ontology2019_tx009.ttl': 5,\n 'aristotle-ontology2019\\\\aristotle-ontology2019_tx010.ttl': 7,\n 'aristotle-ontology2019\\\\aristotle-ontology2019_tx011.ttl': 9,\n 'aristotle-ontology2019\\\\aristotle-ontology2019_tx012.ttl': 3,\n 'aristotle-ontology2019\\\\aristotle-ontology2019_tx013.ttl': 6,\n 'aristotle-ontology2019\\\\aristotle-ontology2019_tx014.ttl': 21,\n 'aristotle-ontology2019\\\\aristotle-ontology2019_tx015.ttl': 5,\n 'aristotle-ontology2019\\\\aristotle-ontology2019_tx016.ttl': 4,\n 'aristotle-ontology2019\\\\aristotle-ontology2019_tx017.ttl': 5,\n 'aristotle-ontology2019\\\\aristotle-ontology2019_tx018.ttl': 6,\n 'aristotle-ontology2019\\\\aristotle-ontology2019_tx019.ttl': 5,\n 'aristotle-ontology2019\\\\aristotle-ontology2019_tx020.ttl': 5,\n 'bank-model\\\\bank-model_tx002.ttl': 7,\n 'bank-model\\\\bank-model_tx003.ttl': 7,\n 'barcelos2013normative-acts\\\\barcelos2013normative-acts_tx001.ttl': 10,\n 'barcelos2013normative-acts\\\\barcelos2013normative-acts_tx002.ttl': 2,\n 'barcelos2013normative-acts\\\\barcelos2013normative-acts_tx003.ttl': 3,\n 'barcelos2013normative-acts\\\\barcelos2013normative-acts_tx004.ttl': 5,\n 'barcelos2013normative-acts\\\\barcelos2013normative-acts_tx005.ttl': 4,\n 'barcelos2013normative-acts\\\\barcelos2013normative-acts_tx006.ttl': 4,\n 'barcelos2013normative-acts\\\\barcelos2013normative-acts_tx007.ttl': 5,\n 'barcelos2013normative-acts\\\\barcelos2013normative-acts_tx008.ttl': 2,\n 'barcelos2015transport-networks\\\\barcelos2015transport-networks_tx003.ttl': 2,\n 'barcelos2015transport-networks\\\\barcelos2015transport-networks_tx004.ttl': 6,\n 'barcelos2015transport-networks\\\\barcelos2015transport-networks_tx006.ttl': 7,\n 'barcelos2015transport-networks\\\\barcelos2015transport-networks_tx007.ttl': 6,\n 'barcelos2015transport-networks\\\\barcelos2015transport-networks_tx008.ttl': 18,\n 'barcelos2015transport-networks\\\\barcelos2015transport-networks_tx009.ttl': 2,\n 'barcelos2015transport-networks\\\\barcelos2015transport-networks_tx011.ttl': 6,\n 'barcelos2015transport-networks\\\\barcelos2015transport-networks_tx012.ttl': 6,\n 'barros2020programming\\\\barros2020programming_tx001.ttl': 12,\n 'bernasconi2021ontovcm\\\\bernasconi2021ontovcm_tx001.ttl': 5,\n 'bernasconi2021ontovcm\\\\bernasconi2021ontovcm_tx002.ttl': 14,\n 'bernasconi2021ontovcm\\\\bernasconi2021ontovcm_tx003.ttl': 2,\n 'bernasconi2021ontovcm\\\\bernasconi2021ontovcm_tx004.ttl': 6,\n 'bernasconi2021ontovcm\\\\bernasconi2021ontovcm_tx005.ttl': 2,\n 'bernasconi2021ontovcm\\\\bernasconi2021ontovcm_tx006.ttl': 9,\n 'bernasconi2021ontovcm\\\\bernasconi2021ontovcm_tx007.ttl': 6,\n 'brazilian-governmental-organizational-structures\\\\brazilian-governmental-organizational-structures_tx001.ttl': 15,\n 'buchtela2020connection\\\\buchtela2020connection_tx001.ttl': 3,\n 'buchtela2020connection\\\\buchtela2020connection_tx002.ttl': 4,\n 'buchtela2020connection\\\\buchtela2020connection_tx003.ttl': 3,\n 'buchtela2020connection\\\\buchtela2020connection_tx004.ttl': 3,\n 'buchtela2020connection\\\\buchtela2020connection_tx005.ttl': 3,\n 'buchtela2020connection\\\\buchtela2020connection_tx006.ttl': 3,\n 'buridan-ontology2021\\\\buridan-ontology2021_tx001.ttl': 3,\n 'buridan-ontology2021\\\\buridan-ontology2021_tx002.ttl': 6,\n 'buridan-ontology2021\\\\buridan-ontology2021_tx003.ttl': 16,\n 'buridan-ontology2021\\\\buridan-ontology2021_tx004.ttl': 9,\n 'buridan-ontology2021\\\\buridan-ontology2021_tx005.ttl': 3,\n 'buridan-ontology2021\\\\buridan-ontology2021_tx006.ttl': 3,\n 'carolla2014campus-management\\\\carolla2014campus-management_tx001.ttl': 4,\n 'carolla2014campus-management\\\\carolla2014campus-management_tx002.ttl': 3,\n 'castro2012cloudvulnerability\\\\castro2012cloudvulnerability_tx001.ttl': 4,\n 'castro2012cloudvulnerability\\\\castro2012cloudvulnerability_tx002.ttl': 3,\n 'castro2012cloudvulnerability\\\\castro2012cloudvulnerability_tx005.ttl': 3,\n 'cgts2021sebim\\\\cgts2021sebim_tx001.ttl': 13,\n 'cgts2021sebim\\\\cgts2021sebim_tx002.ttl': 5,\n 'cgts2021sebim\\\\cgts2021sebim_tx003.ttl': 4,\n 'clergy-ontology\\\\clergy-ontology_tx001.ttl': 17,\n 'construction-model\\\\construction-model_tx001.ttl': 7,\n 'derave2019dpo\\\\derave2019dpo_tx002.ttl': 3,\n 'derave2019dpo\\\\derave2019dpo_tx003.ttl': 5,\n 'derave2019dpo\\\\derave2019dpo_tx005.ttl': 3,\n 'derave2019dpo\\\\derave2019dpo_tx007.ttl': 4,\n 'derave2019dpo\\\\derave2019dpo_tx009.ttl': 2,\n 'derave2019dpo\\\\derave2019dpo_tx010.ttl': 3,\n 'derave2019dpo\\\\derave2019dpo_tx011.ttl': 3,\n 'derave2019dpo\\\\derave2019dpo_tx012.ttl': 7,\n 'derave2019dpo\\\\derave2019dpo_tx013.ttl': 10,\n 'derave2019dpo\\\\derave2019dpo_tx014.ttl': 2,\n 'derave2019dpo\\\\derave2019dpo_tx015.ttl': 2,\n 'derave2019dpo\\\\derave2019dpo_tx016.ttl': 3,\n 'derave2019dpo\\\\derave2019dpo_tx017.ttl': 16,\n 'derave2019dpo\\\\derave2019dpo_tx018.ttl': 3,\n 'digitaldoctor2022\\\\digitaldoctor2022_tx001.ttl': 36,\n 'dpo2017\\\\dpo2017_tx003.ttl': 16,\n 'duarte2020jogabilidade\\\\duarte2020jogabilidade_tx001.ttl': 2,\n 'duarte2020jogabilidade\\\\duarte2020jogabilidade_tx002.ttl': 2,\n 'elikan2018brand-identity\\\\elikan2018brand-identity_tx001.ttl': 6,\n 'elikan2018brand-identity\\\\elikan2018brand-identity_tx002.ttl': 2,\n 'eu-rent-refactored2022\\\\eu-rent-refactored2022_tx001.ttl': 48,\n 'eu-rent-refactored2022\\\\eu-rent-refactored2022_tx003.ttl': 3,\n 'eu-rent-refactored2022\\\\eu-rent-refactored2022_tx004.ttl': 3,\n 'falduci2022non-consensual-pornography\\\\falduci2022non-consensual-pornography_tx001.ttl': 2,\n 'falduci2022non-consensual-pornography\\\\falduci2022non-consensual-pornography_tx003.ttl': 7,\n 'fernandez-cejas2022curie-o\\\\fernandez-cejas2022curie-o_tx001.ttl': 7,\n 'fernandez-cejas2022curie-o\\\\fernandez-cejas2022curie-o_tx002.ttl': 3,\n 'fernandez-cejas2022curie-o\\\\fernandez-cejas2022curie-o_tx003.ttl': 7,\n 'ferreira2015ontoemergeplan\\\\ferreira2015ontoemergeplan_tx005.ttl': 2,\n 'ferreira2015ontoemergeplan\\\\ferreira2015ontoemergeplan_tx006.ttl': 3,\n 'fischer2018ontorea\\\\fischer2018ontorea_tx004.ttl': 3,\n 'fonseca2022incorporating\\\\fonseca2022incorporating_tx001.ttl': 11,\n 'fonseca2022incorporating\\\\fonseca2022incorporating_tx002.ttl': 3,\n 'fonseca2022incorporating\\\\fonseca2022incorporating_tx003.ttl': 6,\n 'fonseca2022incorporating\\\\fonseca2022incorporating_tx004.ttl': 3,\n 'fonseca2022incorporating\\\\fonseca2022incorporating_tx006.ttl': 6,\n 'fraller2019abc\\\\fraller2019abc_tx001.ttl': 3,\n 'fraller2019abc\\\\fraller2019abc_tx002.ttl': 6,\n 'fraller2019abc\\\\fraller2019abc_tx003.ttl': 13,\n 'fraller2019abc\\\\fraller2019abc_tx004.ttl': 5,\n 'franco2018rpg\\\\franco2018rpg_tx001.ttl': 2,\n 'franco2018rpg\\\\franco2018rpg_tx002.ttl': 6,\n 'franco2018rpg\\\\franco2018rpg_tx003.ttl': 2,\n 'franco2018rpg\\\\franco2018rpg_tx004.ttl': 2,\n 'freshbz2023\\\\freshbz2023_tx001.ttl': 5,\n 'freshbz2023\\\\freshbz2023_tx002.ttl': 4,\n 'freshbz2023\\\\freshbz2023_tx003.ttl': 5,\n 'freshbz2023\\\\freshbz2023_tx004.ttl': 11,\n 'freshbz2023\\\\freshbz2023_tx005.ttl': 4,\n 'freshbz2023\\\\freshbz2023_tx006.ttl': 4,\n 'freshbz2023\\\\freshbz2023_tx007.ttl': 4,\n 'freshbz2023\\\\freshbz2023_tx008.ttl': 3,\n 'freshbz2023\\\\freshbz2023_tx009.ttl': 3,\n 'freshbz2023\\\\freshbz2023_tx010.ttl': 4,\n 'freshbz2023\\\\freshbz2023_tx011.ttl': 5,\n 'freshbz2023\\\\freshbz2023_tx012.ttl': 6,\n 'freshbz2023\\\\freshbz2023_tx013.ttl': 4,\n 'freshbz2023\\\\freshbz2023_tx014.ttl': 6,\n 'freshbz2023\\\\freshbz2023_tx015.ttl': 2,\n 'fumagalli2022criminal-investigation\\\\fumagalli2022criminal-investigation_tx001.ttl': 8,\n 'g809-2015\\\\g809-2015_tx001.ttl': 3,\n 'g809-2015\\\\g809-2015_tx002.ttl': 7,\n 'g809-2015\\\\g809-2015_tx003.ttl': 2,\n 'g809-2015\\\\g809-2015_tx004.ttl': 2,\n 'g809-2015\\\\g809-2015_tx005.ttl': 2,\n 'g809-2015\\\\g809-2015_tx006.ttl': 2,\n 'gi2mo\\\\gi2mo_tx002.ttl': 5,\n 'gi2mo\\\\gi2mo_tx005.ttl': 10,\n 'gi2mo\\\\gi2mo_tx006.ttl': 19,\n 'goncalves2011ecg\\\\goncalves2011ecg_tx001.ttl': 2,\n 'goncalves2011ecg\\\\goncalves2011ecg_tx002.ttl': 3,\n 'goncalves2011ecg\\\\goncalves2011ecg_tx003.ttl': 11,\n 'goncalves2011ecg\\\\goncalves2011ecg_tx004.ttl': 3,\n 'goncalves2011ecg\\\\goncalves2011ecg_tx005.ttl': 3,\n 'goncalves2011ecg\\\\goncalves2011ecg_tx007.ttl': 20,\n 'goncalves2011ecg\\\\goncalves2011ecg_tx008.ttl': 2,\n 'goncalves2011ecg\\\\goncalves2011ecg_tx009.ttl': 3,\n 'goncalves2011ecg\\\\goncalves2011ecg_tx010.ttl': 3,\n 'goncalves2011ecg\\\\goncalves2011ecg_tx011.ttl': 5,\n 'goncalves2011ecg\\\\goncalves2011ecg_tx012.ttl': 2,\n 'goncalves2011ecg\\\\goncalves2011ecg_tx013.ttl': 2,\n 'goncalves2011ecg\\\\goncalves2011ecg_tx014.ttl': 3,\n 'guarino2016value\\\\guarino2016value_tx001.ttl': 3,\n 'guizzardi2005ontological\\\\guizzardi2005ontological_tx001.ttl': 18,\n 'guizzardi2005ontological\\\\guizzardi2005ontological_tx003.ttl': 2,\n 'guizzardi2005ontological\\\\guizzardi2005ontological_tx004.ttl': 5,\n 'guizzardi2005ontological\\\\guizzardi2005ontological_tx005.ttl': 6,\n 'guizzardi2020decision-making\\\\guizzardi2020decision-making_tx003.ttl': 2,\n 'guizzardi2022ufo\\\\guizzardi2022ufo_tx001.ttl': 2,\n 'guizzardi2022ufo\\\\guizzardi2022ufo_tx002.ttl': 5,\n 'guizzardi2022ufo\\\\guizzardi2022ufo_tx003.ttl': 2,\n 'guizzardi2022ufo\\\\guizzardi2022ufo_tx004.ttl': 8,\n 'guizzardi2022ufo\\\\guizzardi2022ufo_tx005.ttl': 2,\n 'guizzardi2022ufo\\\\guizzardi2022ufo_tx006.ttl': 2,\n 'guizzardi2022ufo\\\\guizzardi2022ufo_tx007.ttl': 4,\n 'guizzardi2022ufo\\\\guizzardi2022ufo_tx008.ttl': 2,\n 'guizzardi2022ufo\\\\guizzardi2022ufo_tx009.ttl': 10,\n 'haridy2021egyptian-e-government\\\\haridy2021egyptian-e-government_tx001.ttl': 3,\n 'haridy2021egyptian-e-government\\\\haridy2021egyptian-e-government_tx002.ttl': 4,\n 'haridy2021egyptian-e-government\\\\haridy2021egyptian-e-government_tx003.ttl': 8,\n 'haridy2021egyptian-e-government\\\\haridy2021egyptian-e-government_tx004.ttl': 3,\n 'health-organizations\\\\health-organizations_tx001.ttl': 6,\n 'health-organizations\\\\health-organizations_tx002.ttl': 10,\n 'idaf2013\\\\idaf2013_tx001.ttl': 4,\n 'idaf2013\\\\idaf2013_tx002.ttl': 20,\n 'idaf2013\\\\idaf2013_tx003.ttl': 5,\n 'idaf2013\\\\idaf2013_tx004.ttl': 11,\n 'idaf2013\\\\idaf2013_tx005.ttl': 2,\n 'internal-affairs2013\\\\internal-affairs2013_tx001.ttl': 5,\n 'internal-affairs2013\\\\internal-affairs2013_tx002.ttl': 2,\n 'internal-affairs2013\\\\internal-affairs2013_tx003.ttl': 5,\n 'internal-affairs2013\\\\internal-affairs2013_tx004.ttl': 3,\n 'internal-affairs2013\\\\internal-affairs2013_tx005.ttl': 4,\n 'internal-affairs2013\\\\internal-affairs2013_tx006.ttl': 21,\n 'internal-affairs2013\\\\internal-affairs2013_tx007.ttl': 2,\n 'it-infrastructure\\\\it-infrastructure_tx001.ttl': 4,\n 'it-infrastructure\\\\it-infrastructure_tx002.ttl': 3,\n 'it-infrastructure\\\\it-infrastructure_tx003.ttl': 3,\n 'it-infrastructure\\\\it-infrastructure_tx004.ttl': 4,\n 'it-infrastructure\\\\it-infrastructure_tx005.ttl': 3,\n 'it-infrastructure\\\\it-infrastructure_tx006.ttl': 4,\n 'it-infrastructure\\\\it-infrastructure_tx007.ttl': 3,\n 'jacobs2022sdpontology\\\\jacobs2022sdpontology_tx001.ttl': 2,\n 'jacobs2022sdpontology\\\\jacobs2022sdpontology_tx002.ttl': 2,\n 'jacobs2022sdpontology\\\\jacobs2022sdpontology_tx003.ttl': 2,\n 'jacobs2022sdpontology\\\\jacobs2022sdpontology_tx004.ttl': 3,\n 'junior2018o4c\\\\junior2018o4c_tx001.ttl': 3,\n 'khantong2020ontology\\\\khantong2020ontology_tx001.ttl': 4,\n 'khantong2020ontology\\\\khantong2020ontology_tx002.ttl': 14,\n 'khantong2020ontology\\\\khantong2020ontology_tx003.ttl': 2,\n 'kostov2017towards\\\\kostov2017towards_tx002.ttl': 5,\n 'kritz2020ontobg\\\\kritz2020ontobg_tx004.ttl': 15,\n 'kritz2020ontobg\\\\kritz2020ontobg_tx006.ttl': 9,\n 'kritz2020ontobg\\\\kritz2020ontobg_tx008.ttl': 8,\n 'kritz2020ontobg\\\\kritz2020ontobg_tx009.ttl': 8,\n 'kritz2020ontobg\\\\kritz2020ontobg_tx010.ttl': 12,\n 'laurier2018rea\\\\laurier2018rea_tx002.ttl': 9,\n 'library\\\\library_tx001.ttl': 3,\n 'library\\\\library_tx002.ttl': 5,\n 'library\\\\library_tx003.ttl': 9,\n 'lindeberg2022full-ontorights\\\\lindeberg2022full-ontorights_tx001.ttl': 20,\n 'lindeberg2022full-ontorights\\\\lindeberg2022full-ontorights_tx002.ttl': 5,\n 'lindeberg2022full-ontorights\\\\lindeberg2022full-ontorights_tx003.ttl': 13,\n 'lindeberg2022full-ontorights\\\\lindeberg2022full-ontorights_tx004.ttl': 3,\n 'lindeberg2022full-ontorights\\\\lindeberg2022full-ontorights_tx005.ttl': 3,\n 'lindeberg2022full-ontorights\\\\lindeberg2022full-ontorights_tx006.ttl': 6,\n 'lindeberg2022full-ontorights\\\\lindeberg2022full-ontorights_tx007.ttl': 62,\n 'lindeberg2022full-ontorights\\\\lindeberg2022full-ontorights_tx008.ttl': 3,\n 'lindeberg2022full-ontorights\\\\lindeberg2022full-ontorights_tx009.ttl': 5,\n 'lindeberg2022full-ontorights\\\\lindeberg2022full-ontorights_tx010.ttl': 5,\n 'lindeberg2022full-ontorights\\\\lindeberg2022full-ontorights_tx011.ttl': 6,\n 'lindeberg2022full-ontorights\\\\lindeberg2022full-ontorights_tx012.ttl': 8,\n 'lindeberg2022simple-ontorights\\\\lindeberg2022simple-ontorights_tx001.ttl': 3,\n 'lindeberg2022simple-ontorights\\\\lindeberg2022simple-ontorights_tx002.ttl': 10,\n 'maddalena2021ontocovid\\\\maddalena2021ontocovid_tx001.ttl': 4,\n 'maddalena2021ontocovid\\\\maddalena2021ontocovid_tx002.ttl': 3,\n 'maddalena2021ontocovid\\\\maddalena2021ontocovid_tx003.ttl': 16,\n 'maddalena2021ontocovid\\\\maddalena2021ontocovid_tx004.ttl': 3,\n 'maddalena2021ontocovid\\\\maddalena2021ontocovid_tx005.ttl': 4,\n 'maddalena2021ontocovid\\\\maddalena2021ontocovid_tx006.ttl': 4,\n 'maddalena2021ontocovid\\\\maddalena2021ontocovid_tx007.ttl': 2,\n 'maddalena2021ontocovid\\\\maddalena2021ontocovid_tx009.ttl': 14,\n 'maddalena2021ontocovid\\\\maddalena2021ontocovid_tx010.ttl': 2,\n 'martinez2013human-genome\\\\martinez2013human-genome_tx001.ttl': 3,\n 'martinez2013human-genome\\\\martinez2013human-genome_tx002.ttl': 2,\n 'mgic-antt2011\\\\mgic-antt2011_tx002.ttl': 3,\n 'mgic-antt2011\\\\mgic-antt2011_tx004.ttl': 4,\n 'mgic-antt2011\\\\mgic-antt2011_tx007.ttl': 2,\n 'mgic-antt2011\\\\mgic-antt2011_tx008.ttl': 17,\n 'mgic-antt2011\\\\mgic-antt2011_tx010.ttl': 7,\n 'mgic-antt2011\\\\mgic-antt2011_tx016.ttl': 8,\n 'mgic-antt2011\\\\mgic-antt2011_tx017.ttl': 76,\n 'mgic-antt2011\\\\mgic-antt2011_tx018.ttl': 10,\n 'mgic-antt2011\\\\mgic-antt2011_tx019.ttl': 7,\n 'mgic-antt2011\\\\mgic-antt2011_tx020.ttl': 5,\n 'mgic-antt2011\\\\mgic-antt2011_tx024.ttl': 2,\n 'mgic-antt2011\\\\mgic-antt2011_tx027.ttl': 3,\n 'mgic-antt2011\\\\mgic-antt2011_tx028.ttl': 2,\n 'mgic-antt2011\\\\mgic-antt2011_tx030.ttl': 3,\n 'mgic-antt2011\\\\mgic-antt2011_tx031.ttl': 5,\n 'mgic-antt2011\\\\mgic-antt2011_tx037.ttl': 2,\n 'mgic-antt2011\\\\mgic-antt2011_tx038.ttl': 2,\n 'mgic-antt2011\\\\mgic-antt2011_tx039.ttl': 2,\n 'mgic-antt2011\\\\mgic-antt2011_tx040.ttl': 3,\n 'mgic-antt2011\\\\mgic-antt2011_tx044.ttl': 3,\n 'mgic-antt2011\\\\mgic-antt2011_tx046.ttl': 3,\n 'mgic-antt2011\\\\mgic-antt2011_tx047.ttl': 4,\n 'mgic-antt2011\\\\mgic-antt2011_tx050.ttl': 3,\n 'mgic-antt2011\\\\mgic-antt2011_tx051.ttl': 6,\n 'mgic-antt2011\\\\mgic-antt2011_tx054.ttl': 3,\n 'mgic-antt2011\\\\mgic-antt2011_tx055.ttl': 6,\n 'mgic-antt2011\\\\mgic-antt2011_tx056.ttl': 16,\n 'mgic-antt2011\\\\mgic-antt2011_tx057.ttl': 4,\n 'mgic-antt2011\\\\mgic-antt2011_tx059.ttl': 15,\n 'mgic-antt2011\\\\mgic-antt2011_tx060.ttl': 56,\n 'mgic-antt2011\\\\mgic-antt2011_tx061.ttl': 31,\n 'mgic-antt2011\\\\mgic-antt2011_tx062.ttl': 5,\n 'mgic-antt2011\\\\mgic-antt2011_tx064.ttl': 2,\n 'mgic-antt2011\\\\mgic-antt2011_tx065.ttl': 3,\n 'mgic-antt2011\\\\mgic-antt2011_tx067.ttl': 8,\n 'moreira2018saref4health\\\\moreira2018saref4health_tx004.ttl': 2,\n 'moreira2018saref4health\\\\moreira2018saref4health_tx005.ttl': 2,\n 'music-ontology\\\\music-ontology_tx001.ttl': 9,\n 'music-ontology\\\\music-ontology_tx003.ttl': 4,\n 'music-ontology\\\\music-ontology_tx005.ttl': 9,\n 'neves2020nwpontology\\\\neves2020nwpontology_tx002.ttl': 2,\n 'neves2020nwpontology\\\\neves2020nwpontology_tx003.ttl': 2,\n 'neves2020nwpontology\\\\neves2020nwpontology_tx004.ttl': 3,\n 'neves2020nwpontology\\\\neves2020nwpontology_tx005.ttl': 3,\n 'neves2020nwpontology\\\\neves2020nwpontology_tx006.ttl': 6,\n 'neves2021grain-production\\\\neves2021grain-production_tx001.ttl': 2,\n 'neves2021grain-production\\\\neves2021grain-production_tx002.ttl': 2,\n 'niederkofler2019dssapple\\\\niederkofler2019dssapple_tx002.ttl': 4,\n 'niederkofler2019dssapple\\\\niederkofler2019dssapple_tx003.ttl': 5,\n 'niederkofler2019dssapple\\\\niederkofler2019dssapple_tx004.ttl': 4,\n 'niederkofler2019dssapple\\\\niederkofler2019dssapple_tx006.ttl': 2,\n 'oliveira2007collaboration\\\\oliveira2007collaboration_tx002.ttl': 3,\n 'oliveira2007collaboration\\\\oliveira2007collaboration_tx004.ttl': 3,\n 'oliveira2022rose\\\\oliveira2022rose_tx003.ttl': 3,\n 'oliveira2022rose\\\\oliveira2022rose_tx004.ttl': 3,\n 'online-mentoring\\\\online-mentoring_tx001.ttl': 11,\n 'online-mentoring\\\\online-mentoring_tx002.ttl': 5,\n 'online-mentoring\\\\online-mentoring_tx003.ttl': 3,\n 'online-mentoring\\\\online-mentoring_tx004.ttl': 3,\n 'pereira2015doacao-orgaos\\\\pereira2015doacao-orgaos_tx002.ttl': 2,\n 'pereira2015doacao-orgaos\\\\pereira2015doacao-orgaos_tx003.ttl': 13,\n 'photography\\\\photography_tx002.ttl': 3,\n 'photography\\\\photography_tx003.ttl': 3,\n 'plato-ontology2019\\\\plato-ontology2019_tx001.ttl': 5,\n 'plato-ontology2019\\\\plato-ontology2019_tx002.ttl': 6,\n 'plato-ontology2019\\\\plato-ontology2019_tx003.ttl': 16,\n 'plato-ontology2019\\\\plato-ontology2019_tx004.ttl': 3,\n 'plato-ontology2019\\\\plato-ontology2019_tx005.ttl': 2,\n 'plato-ontology2019\\\\plato-ontology2019_tx006.ttl': 4,\n 'plato-ontology2019\\\\plato-ontology2019_tx007.ttl': 5,\n 'plato-ontology2019\\\\plato-ontology2019_tx008.ttl': 3,\n 'ppo-o2021\\\\ppo-o2021_tx001.ttl': 2,\n 'ppo-o2021\\\\ppo-o2021_tx002.ttl': 22,\n 'ppo-o2021\\\\ppo-o2021_tx003.ttl': 5,\n 'ppo-o2021\\\\ppo-o2021_tx004.ttl': 2,\n 'ppo-o2021\\\\ppo-o2021_tx005.ttl': 2,\n 'ppo-o2021\\\\ppo-o2021_tx006.ttl': 7,\n 'ppo-o2021\\\\ppo-o2021_tx007.ttl': 1,\n 'project-management-ontology\\\\project-management-ontology_tx001.ttl': 5,\n 'project-management-ontology\\\\project-management-ontology_tx002.ttl': 5,\n 'public-expense-ontology2020\\\\public-expense-ontology2020_tx002.ttl': 5,\n 'public-expense-ontology2020\\\\public-expense-ontology2020_tx004.ttl': 2,\n 'public-expense-ontology2020\\\\public-expense-ontology2020_tx006.ttl': 4,\n 'public-expense-ontology2020\\\\public-expense-ontology2020_tx007.ttl': 2,\n 'public-expense-ontology2020\\\\public-expense-ontology2020_tx008.ttl': 4,\n 'public-tender\\\\public-tender_tx002.ttl': 3,\n 'public-tender\\\\public-tender_tx003.ttl': 2,\n 'public-tender\\\\public-tender_tx005.ttl': 2,\n 'public-tender\\\\public-tender_tx006.ttl': 24,\n 'public-tender\\\\public-tender_tx007.ttl': 2,\n 'public-tender\\\\public-tender_tx008.ttl': 3,\n 'public-tender\\\\public-tender_tx009.ttl': 3,\n 'public-tender\\\\public-tender_tx010.ttl': 2,\n 'public-tender\\\\public-tender_tx011.ttl': 2,\n 'public-tender\\\\public-tender_tx012.ttl': 2,\n 'qam\\\\qam_tx001.ttl': 2,\n 'qam\\\\qam_tx002.ttl': 3,\n 'qam\\\\qam_tx003.ttl': 11,\n 'qam\\\\qam_tx004.ttl': 10,\n 'qam\\\\qam_tx005.ttl': 3,\n 'ramirez2015userfeedback\\\\ramirez2015userfeedback_tx002.ttl': 4,\n 'ramirez2015userfeedback\\\\ramirez2015userfeedback_tx003.ttl': 4,\n 'ramirez2015userfeedback\\\\ramirez2015userfeedback_tx008.ttl': 2,\n 'ramos2021bias\\\\ramos2021bias_tx003.ttl': 2,\n 'real-estate-ontology\\\\real-estate-ontology_tx001.ttl': 11,\n 'real-estate-ontology\\\\real-estate-ontology_tx002.ttl': 2,\n 'recommendation-ontology\\\\recommendation-ontology_tx001.ttl': 4,\n 'recommendation-ontology\\\\recommendation-ontology_tx002.ttl': 9,\n 'repa2021public-administration\\\\repa2021public-administration_tx003.ttl': 10,\n 'rodrigues2017urinary-profiles\\\\rodrigues2017urinary-profiles_tx001.ttl': 1,\n 'rodrigues2017urinary-profiles\\\\rodrigues2017urinary-profiles_tx005.ttl': 4,\n 'rodrigues2019ontocrime\\\\rodrigues2019ontocrime_tx002.ttl': 7,\n 'rodrigues2019turbidite\\\\rodrigues2019turbidite_tx002.ttl': 14,\n 'rodrigues2019turbidite\\\\rodrigues2019turbidite_tx003.ttl': 4,\n 'romanenko2023what\\\\romanenko2023what_tx001.ttl': 13,\n 'romanenko2023what\\\\romanenko2023what_tx002.ttl': 3,\n 'romanenko2023what\\\\romanenko2023what_tx003.ttl': 13,\n 'romanenko2023what\\\\romanenko2023what_tx004.ttl': 3,\n 'romanenko2023what\\\\romanenko2023what_tx005.ttl': 3,\n 'romanenko2023what\\\\romanenko2023what_tx006.ttl': 8,\n 'sales2018competition\\\\sales2018competition_tx002.ttl': 3,\n 'sales2018competition\\\\sales2018competition_tx003.ttl': 3,\n 'sales2018competition\\\\sales2018competition_tx005.ttl': 4,\n 'sales2018competition\\\\sales2018competition_tx006.ttl': 3,\n 'sales2018cover\\\\sales2018cover_tx002.ttl': 14,\n 'sales2018cover\\\\sales2018cover_tx003.ttl': 14,\n 'santos2020valuenetworks\\\\santos2020valuenetworks_tx003.ttl': 5,\n 'sikora2021online-education\\\\sikora2021online-education_tx001.ttl': 27,\n 'sikora2021online-education\\\\sikora2021online-education_tx002.ttl': 4,\n 'sikora2021online-education\\\\sikora2021online-education_tx003.ttl': 6,\n 'sikora2021online-education\\\\sikora2021online-education_tx004.ttl': 3,\n 'sikora2021online-education\\\\sikora2021online-education_tx006.ttl': 3,\n 'silva2012itarchitecture\\\\silva2012itarchitecture_tx001.ttl': 46,\n 'silva2012itarchitecture\\\\silva2012itarchitecture_tx002.ttl': 3,\n 'silva2012itarchitecture\\\\silva2012itarchitecture_tx003.ttl': 3,\n 'silva2012itarchitecture\\\\silva2012itarchitecture_tx004.ttl': 11,\n 'silva2012itarchitecture\\\\silva2012itarchitecture_tx005.ttl': 8,\n 'silveira2021oap\\\\silveira2021oap_tx003.ttl': 2,\n 'silveira2021oap\\\\silveira2021oap_tx005.ttl': 2,\n 'social-contract\\\\social-contract_tx001.ttl': 4,\n 'social-contract\\\\social-contract_tx002.ttl': 5,\n 'social-contract\\\\social-contract_tx003.ttl': 3,\n 'sousa2022triponto\\\\sousa2022triponto_tx001.ttl': 3,\n 'sousa2022triponto\\\\sousa2022triponto_tx002.ttl': 3,\n 'sousa2022triponto\\\\sousa2022triponto_tx003.ttl': 6,\n 'sousa2022triponto\\\\sousa2022triponto_tx005.ttl': 5,\n 'sousa2022triponto\\\\sousa2022triponto_tx006.ttl': 3,\n 'sousa2022triponto\\\\sousa2022triponto_tx007.ttl': 9,\n 'spo2017\\\\spo2017_tx002.ttl': 13,\n 'spo2017\\\\spo2017_tx005.ttl': 4,\n 'sportbooking2021\\\\sportbooking2021_tx001.ttl': 6,\n 'sportbooking2021\\\\sportbooking2021_tx002.ttl': 4,\n 'sportbooking2021\\\\sportbooking2021_tx003.ttl': 5,\n 'sportbooking2021\\\\sportbooking2021_tx004.ttl': 3,\n 'srro-ontology\\\\srro-ontology_tx001.ttl': 13,\n 'srro-ontology\\\\srro-ontology_tx002.ttl': 3,\n 'stock-broker2021\\\\stock-broker2021_tx001.ttl': 12,\n 'tourbo2021\\\\tourbo2021_tx001.ttl': 14,\n 'tourbo2021\\\\tourbo2021_tx002.ttl': 5,\n 'tourbo2021\\\\tourbo2021_tx003.ttl': 4,\n 'tourbo2021\\\\tourbo2021_tx004.ttl': 4,\n 'tourbo2021\\\\tourbo2021_tx005.ttl': 3,\n 'tourbo2021\\\\tourbo2021_tx007.ttl': 3,\n 'tourbo2021\\\\tourbo2021_tx008.ttl': 3,\n 'unimatch-ontology2022\\\\unimatch-ontology2022_tx001.ttl': 6,\n 'unimatch-ontology2022\\\\unimatch-ontology2022_tx002.ttl': 7,\n 'unimatch-ontology2022\\\\unimatch-ontology2022_tx003.ttl': 5,\n 'university-ontology\\\\university-ontology_tx002.ttl': 4,\n 'university-ontology\\\\university-ontology_tx003.ttl': 3,\n 'valaski2020medical-appointment\\\\valaski2020medical-appointment_tx001.ttl': 3,\n 'van-wingerde2020smart-contracts\\\\van-wingerde2020smart-contracts_tx002.ttl': 3,\n 'van-wingerde2020smart-contracts\\\\van-wingerde2020smart-contracts_tx004.ttl': 2,\n 'vieira2020weathering\\\\vieira2020weathering_tx001.ttl': 7,\n 'vieira2020weathering\\\\vieira2020weathering_tx002.ttl': 4,\n 'zanetti2019orm-o\\\\zanetti2019orm-o_tx001.ttl': 7,\n 'zanetti2019orm-o\\\\zanetti2019orm-o_tx004.ttl': 3,\n 'zanetti2019orm-o\\\\zanetti2019orm-o_tx005.ttl': 5}"
     },
     "execution_count": 22,
     "metadata": {},
     "output_type": "execute_result"
    }
   ],
   "source": [
    "taxonomy_length"
   ],
   "metadata": {
    "collapsed": false
   }
  },
  {
   "cell_type": "code",
   "execution_count": 73,
   "outputs": [],
   "source": [
    "def is_valid(name, completeness) -> str:\n",
    "    folder = name.split(\"\\\\\")[0]\n",
    "    taxonomy_name = f\"{folder}\\\\{folder}_{name.split('_')[6]}.ttl\"\n",
    "    valid_list = valid_ac if completeness == \"ac\" else valid_an\n",
    "    if taxonomy_name in valid_list:\n",
    "        return taxonomy_name\n",
    "    return \"\""
   ],
   "metadata": {
    "collapsed": false
   }
  },
  {
   "cell_type": "code",
   "execution_count": 74,
   "outputs": [],
   "source": [
    "def calculate_matrices(complete_list: list, names: list):\n",
    "    for name in names:\n",
    "        num = 15 if name == \"class\" else 9\n",
    "        for complete in complete_list:\n",
    "            matrix = np.zeros((4,num), dtype=float)\n",
    "            idx = 0\n",
    "            for percentage in range(2, 10, 2):\n",
    "                temp = np.zeros((num,num), dtype=float)\n",
    "                for file_name in glob.glob(f\"*\\\\tt002_{complete}\\\\results\\\\{name}_matrix_*_pc0{percentage}0.csv\"):\n",
    "                    taxonomy_name = is_valid(file_name, complete)\n",
    "                    if taxonomy_name:\n",
    "                        result = np.array(list(reader(open(file_name, \"r\"), delimiter=\",\"))).astype('float')\n",
    "                        result /= taxonomy_length[taxonomy_name]\n",
    "                        temp += result\n",
    "                total = sum(sum(temp))\n",
    "                temp *= 100\n",
    "                temp /=total\n",
    "                matrix[idx,:] = matrix[idx,:] + temp[0,:]\n",
    "                idx += 1\n",
    "            np.savetxt(f\"{name}_matrixes_{complete}.csv\", matrix, delimiter=\",\")"
   ],
   "metadata": {
    "collapsed": false
   }
  },
  {
   "cell_type": "code",
   "execution_count": 75,
   "outputs": [],
   "source": [
    "calculate_matrices([\"ac\", \"an\"], [\"class\", \"leaves\"])"
   ],
   "metadata": {
    "collapsed": false
   }
  },
  {
   "cell_type": "code",
   "execution_count": null,
   "outputs": [],
   "source": [],
   "metadata": {
    "collapsed": false
   }
  }
 ],
 "metadata": {
  "kernelspec": {
   "display_name": "Python 3",
   "language": "python",
   "name": "python3"
  },
  "language_info": {
   "codemirror_mode": {
    "name": "ipython",
    "version": 2
   },
   "file_extension": ".py",
   "mimetype": "text/x-python",
   "name": "python",
   "nbconvert_exporter": "python",
   "pygments_lexer": "ipython2",
   "version": "2.7.6"
  }
 },
 "nbformat": 4,
 "nbformat_minor": 0
}
